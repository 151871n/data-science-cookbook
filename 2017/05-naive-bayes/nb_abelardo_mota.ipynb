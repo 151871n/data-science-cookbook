{
 "cells": [
  {
   "cell_type": "markdown",
   "metadata": {},
   "source": [
    "# Naive Bayes"
   ]
  },
  {
   "cell_type": "markdown",
   "metadata": {},
   "source": [
    "## Questão 1"
   ]
  },
  {
   "cell_type": "markdown",
   "metadata": {},
   "source": [
    "### Classificador"
   ]
  },
  {
   "cell_type": "markdown",
   "metadata": {},
   "source": [
    "### Modelo mapeando features em numéricos e utilizando distribuição normal"
   ]
  },
  {
   "cell_type": "code",
   "execution_count": 122,
   "metadata": {},
   "outputs": [
    {
     "data": {
      "text/html": [
       "<div>\n",
       "<style>\n",
       "    .dataframe thead tr:only-child th {\n",
       "        text-align: right;\n",
       "    }\n",
       "\n",
       "    .dataframe thead th {\n",
       "        text-align: left;\n",
       "    }\n",
       "\n",
       "    .dataframe tbody tr th {\n",
       "        vertical-align: top;\n",
       "    }\n",
       "</style>\n",
       "<table border=\"1\" class=\"dataframe\">\n",
       "  <thead>\n",
       "    <tr style=\"text-align: right;\">\n",
       "      <th></th>\n",
       "      <th>count</th>\n",
       "      <th>mean</th>\n",
       "      <th>std</th>\n",
       "      <th>min</th>\n",
       "      <th>25%</th>\n",
       "      <th>50%</th>\n",
       "      <th>75%</th>\n",
       "      <th>max</th>\n",
       "    </tr>\n",
       "  </thead>\n",
       "  <tbody>\n",
       "    <tr>\n",
       "      <th>0</th>\n",
       "      <td>100.0</td>\n",
       "      <td>76.985989</td>\n",
       "      <td>1.602613</td>\n",
       "      <td>72.67951</td>\n",
       "      <td>75.831874</td>\n",
       "      <td>76.882662</td>\n",
       "      <td>78.108581</td>\n",
       "      <td>81.78634</td>\n",
       "    </tr>\n",
       "  </tbody>\n",
       "</table>\n",
       "</div>"
      ],
      "text/plain": [
       "   count       mean       std       min        25%        50%        75%  \\\n",
       "0  100.0  76.985989  1.602613  72.67951  75.831874  76.882662  78.108581   \n",
       "\n",
       "        max  \n",
       "0  81.78634  "
      ]
     },
     "execution_count": 122,
     "metadata": {},
     "output_type": "execute_result"
    }
   ],
   "source": [
    "import csv\n",
    "import math\n",
    "import random\n",
    "from collections import defaultdict\n",
    "\n",
    "def try_int(not_int_dict):\n",
    "    \n",
    "    def _try_int(x):\n",
    "        \n",
    "        try:\n",
    "            return int(x)\n",
    "        except:\n",
    "            return not_int_dict[x]\n",
    "    return _try_int\n",
    "\n",
    "preprocess_list = [\n",
    "    lambda x: {'vhigh': 4, 'high': 3, 'med': 2, 'low': 1}[x],\n",
    "    lambda x: {'vhigh': 4, 'high': 3, 'med': 2, 'low': 1}[x],\n",
    "    try_int({'5more': 6}),\n",
    "    try_int({'more': 5}),\n",
    "    lambda x: {'big': 3, 'med': 2, 'small': 1}[x],\n",
    "    lambda x: {'high': 3, 'med': 2, 'low': 1}[x],\n",
    "    lambda x: {'vgood': 4, 'good': 3, 'acc': 2, 'unacc': 1}[x]\n",
    "]\n",
    "\n",
    "def preprocess_row(row):\n",
    "    \n",
    "    return [preprocess_list[i](v) for i, v in enumerate(row)]\n",
    "\n",
    "def loadCsv(filename):\n",
    "    rows = csv.reader(open(filename, \"r\"))\n",
    "    ds = [preprocess_row(row) for row in rows]\n",
    "\n",
    "    return ds\n",
    "\n",
    "def splitDataset(dataset, splitRatio):\n",
    "    trainSize = int(len(dataset) * splitRatio)\n",
    "    trainSet = []\n",
    "    copy = list(dataset)\n",
    "    while len(trainSet) < trainSize:\n",
    "        index = random.randrange(len(copy))\n",
    "        trainSet.append(copy.pop(index))\n",
    "    return [trainSet, copy]\n",
    "\n",
    "def separateByClass(dataset):\n",
    "    separated = {}\n",
    "    for i in range(len(dataset)):\n",
    "        vector = dataset[i]\n",
    "        if (vector[-1] not in separated):\n",
    "            separated[vector[-1]] = []\n",
    "        separated[vector[-1]].append(vector)\n",
    "    return separated\n",
    "\n",
    "def mean(numbers):\n",
    "    return sum(numbers)/float(len(numbers))\n",
    " \n",
    "def stdev(numbers):\n",
    "    avg = mean(numbers)\n",
    "    variance = sum([pow(x-avg,2) for x in numbers])/float(len(numbers)-1)\n",
    "    return math.sqrt(variance)\n",
    "\n",
    "def summarize(dataset):\n",
    "    summaries = [(mean(attribute), stdev(attribute)) for attribute in zip(*dataset)]\n",
    "    del summaries[-1]\n",
    "    return summaries\n",
    "\n",
    "def summarizeByClass(dataset):\n",
    "    separated = separateByClass(dataset)\n",
    "    summaries = {}\n",
    "    for classValue, instances in separated.items():\n",
    "        summaries[classValue] = summarize(instances)\n",
    "    return summaries\n",
    "\n",
    "def calculateProbability(x, mean, stdev):\n",
    "    \n",
    "    if stdev == 0:\n",
    "        return 1. if x == mean else .1        \n",
    "    \n",
    "    exponent = math.exp(-(x-mean)**2/(2*stdev**2))\n",
    "    return (1 / ((2*math.pi) * stdev ** 2)**.5) * exponent\n",
    "\n",
    "def calculateClassProbabilities(summaries, inputVector):\n",
    "    probabilities = {}\n",
    "    for classValue, classSummaries in summaries.items():\n",
    "        probabilities[classValue] = 1\n",
    "        for i in range(len(classSummaries)):\n",
    "            mean, stdev = classSummaries[i]\n",
    "            x = inputVector[i]\n",
    "            probabilities[classValue] *= calculateProbability(x, mean, stdev)\n",
    "    return probabilities\n",
    "\n",
    "def predict(summaries, inputVector):\n",
    "    probabilities = calculateClassProbabilities(summaries, inputVector)\n",
    "    bestLabel, bestProb = None, -1\n",
    "    for classValue, probability in probabilities.items():\n",
    "        if bestLabel is None or probability > bestProb:\n",
    "            bestProb = probability\n",
    "            bestLabel = classValue\n",
    "    return bestLabel, bestProb\n",
    "\n",
    "def getPredictions(summaries, testSet):\n",
    "    predictions = []\n",
    "    probs = []\n",
    "    for i in range(len(testSet)):\n",
    "        result, prob = predict(summaries, testSet[i])\n",
    "        predictions.append(result)\n",
    "        probs.append(prob)\n",
    "    return predictions, probs\n",
    "\n",
    "def getAccuracy(testSet, predictions):\n",
    "    correct = 0\n",
    "    for i in range(len(testSet)):\n",
    "        if testSet[i][-1] == predictions[i]:\n",
    "            correct += 1\n",
    "    return (correct/float(len(testSet))) * 100.0\n",
    "\n",
    "def train_and_test(filepath):\n",
    "    \n",
    "    accs = []\n",
    "    \n",
    "    ds = loadCsv(filepath)\n",
    "    \n",
    "    for i in range(100):\n",
    "\n",
    "        train, test = splitDataset(ds, splitRatio=.67)\n",
    "        summaries = summarizeByClass(train)\n",
    "\n",
    "        predictions, _ = getPredictions(summaries, test)\n",
    "        \n",
    "        accs.append(getAccuracy(test, predictions))\n",
    "    \n",
    "    return accs\n",
    "\n",
    "accs = train_and_test(\"carData.csv\")\n",
    "\n",
    "pd.Series(accs).describe().to_frame().T"
   ]
  },
  {
   "cell_type": "markdown",
   "metadata": {},
   "source": [
    "### Modelo utilizando frequência dos valores das features"
   ]
  },
  {
   "cell_type": "code",
   "execution_count": 115,
   "metadata": {
    "collapsed": true
   },
   "outputs": [],
   "source": [
    "df = pd.read_csv(\"carData.csv\", header=None)\n",
    "\n",
    "f_cols = list(range(0, 6))\n",
    "\n",
    "freq_classes = df.groupby(6).size()\n",
    "\n",
    "classes = df[6].unique()\n",
    "\n",
    "DEFAULT_NO_FREQ_PROB = 0.01\n",
    "\n",
    "def fit(df):\n",
    "    probs = {}\n",
    "\n",
    "    for f_col in f_cols:\n",
    "\n",
    "        probs[f_col] = df.groupby([6, f_col]).size().unstack().div(freq_classes, axis=0).fillna(DEFAULT_NO_FREQ_PROB)\n",
    "\n",
    "    def predict(ds):\n",
    "\n",
    "        prob = {}\n",
    "        predictions = []\n",
    "        for ix, row in ds.iterrows():\n",
    "            for classe in classes:\n",
    "                prob[classe] = 1.\n",
    "                for f_col in f_cols:\n",
    "                    prob[classe] = prob[classe] * probs[f_col].loc[classe, str(row[f_col])]\n",
    "\n",
    "            predictions.append(max(prob.keys(), key=lambda key: prob[key]))\n",
    "\n",
    "        return predictions\n",
    "    \n",
    "    return predict"
   ]
  },
  {
   "cell_type": "code",
   "execution_count": 123,
   "metadata": {},
   "outputs": [
    {
     "data": {
      "text/html": [
       "<div>\n",
       "<style>\n",
       "    .dataframe thead tr:only-child th {\n",
       "        text-align: right;\n",
       "    }\n",
       "\n",
       "    .dataframe thead th {\n",
       "        text-align: left;\n",
       "    }\n",
       "\n",
       "    .dataframe tbody tr th {\n",
       "        vertical-align: top;\n",
       "    }\n",
       "</style>\n",
       "<table border=\"1\" class=\"dataframe\">\n",
       "  <thead>\n",
       "    <tr style=\"text-align: right;\">\n",
       "      <th></th>\n",
       "      <th>count</th>\n",
       "      <th>mean</th>\n",
       "      <th>std</th>\n",
       "      <th>min</th>\n",
       "      <th>25%</th>\n",
       "      <th>50%</th>\n",
       "      <th>75%</th>\n",
       "      <th>max</th>\n",
       "    </tr>\n",
       "  </thead>\n",
       "  <tbody>\n",
       "    <tr>\n",
       "      <th>0</th>\n",
       "      <td>100.0</td>\n",
       "      <td>0.798494</td>\n",
       "      <td>0.021473</td>\n",
       "      <td>0.747811</td>\n",
       "      <td>0.782837</td>\n",
       "      <td>0.796848</td>\n",
       "      <td>0.814361</td>\n",
       "      <td>0.851138</td>\n",
       "    </tr>\n",
       "  </tbody>\n",
       "</table>\n",
       "</div>"
      ],
      "text/plain": [
       "   count      mean       std       min       25%       50%       75%       max\n",
       "0  100.0  0.798494  0.021473  0.747811  0.782837  0.796848  0.814361  0.851138"
      ]
     },
     "execution_count": 123,
     "metadata": {},
     "output_type": "execute_result"
    }
   ],
   "source": [
    "accs = []\n",
    "\n",
    "for x in range(100):\n",
    "\n",
    "    df_train, df_test = train_test_split(df, test_size=.33)\n",
    "    \n",
    "    nb = fit(df_train)\n",
    "    \n",
    "    acc = accuracy_score(df_test[6], nb(df_test))\n",
    "    accs.append(acc)\n",
    "\n",
    "pd.Series(accs).describe().to_frame().T"
   ]
  },
  {
   "cell_type": "markdown",
   "metadata": {},
   "source": [
    "### Questão 2"
   ]
  },
  {
   "cell_type": "code",
   "execution_count": 1,
   "metadata": {
    "collapsed": true
   },
   "outputs": [],
   "source": [
    "from sklearn.naive_bayes import GaussianNB\n",
    "from sklearn.model_selection import train_test_split\n",
    "import pandas as pd\n",
    "import numpy as np\n",
    "from sklearn.model_selection import GridSearchCV\n",
    "from sklearn.metrics import accuracy_score\n",
    "from sklearn.metrics import confusion_matrix"
   ]
  },
  {
   "cell_type": "code",
   "execution_count": 5,
   "metadata": {},
   "outputs": [],
   "source": [
    "ds = loadCsv(\"carData.csv\")\n",
    "df = pd.DataFrame(ds, columns=range(7))\n",
    "\n",
    "X = df[list(range(6))]\n",
    "y = df[6]"
   ]
  },
  {
   "cell_type": "code",
   "execution_count": 6,
   "metadata": {
    "collapsed": true
   },
   "outputs": [],
   "source": [
    "accs = []\n",
    "\n",
    "for x in range(100):\n",
    "\n",
    "    nb = GaussianNB()\n",
    "    X_train, X_test, y_train, y_test = train_test_split(X, y, test_size=.33)\n",
    "    \n",
    "    nb.fit(X_train, y_train)\n",
    "    \n",
    "    acc = accuracy_score(y_test, nb.predict(X_test))\n",
    "    accs.append(acc)"
   ]
  },
  {
   "cell_type": "code",
   "execution_count": 7,
   "metadata": {},
   "outputs": [
    {
     "data": {
      "text/html": [
       "<div>\n",
       "<style>\n",
       "    .dataframe thead tr:only-child th {\n",
       "        text-align: right;\n",
       "    }\n",
       "\n",
       "    .dataframe thead th {\n",
       "        text-align: left;\n",
       "    }\n",
       "\n",
       "    .dataframe tbody tr th {\n",
       "        vertical-align: top;\n",
       "    }\n",
       "</style>\n",
       "<table border=\"1\" class=\"dataframe\">\n",
       "  <thead>\n",
       "    <tr style=\"text-align: right;\">\n",
       "      <th></th>\n",
       "      <th>count</th>\n",
       "      <th>mean</th>\n",
       "      <th>std</th>\n",
       "      <th>min</th>\n",
       "      <th>25%</th>\n",
       "      <th>50%</th>\n",
       "      <th>75%</th>\n",
       "      <th>max</th>\n",
       "    </tr>\n",
       "  </thead>\n",
       "  <tbody>\n",
       "    <tr>\n",
       "      <th>0</th>\n",
       "      <td>100.0</td>\n",
       "      <td>0.769247</td>\n",
       "      <td>0.016078</td>\n",
       "      <td>0.730298</td>\n",
       "      <td>0.758319</td>\n",
       "      <td>0.768827</td>\n",
       "      <td>0.781086</td>\n",
       "      <td>0.805604</td>\n",
       "    </tr>\n",
       "  </tbody>\n",
       "</table>\n",
       "</div>"
      ],
      "text/plain": [
       "   count      mean       std       min       25%       50%       75%       max\n",
       "0  100.0  0.769247  0.016078  0.730298  0.758319  0.768827  0.781086  0.805604"
      ]
     },
     "execution_count": 7,
     "metadata": {},
     "output_type": "execute_result"
    }
   ],
   "source": [
    "pd.Series(accs).describe().to_frame().T"
   ]
  },
  {
   "cell_type": "markdown",
   "metadata": {},
   "source": [
    "## Questão 3"
   ]
  },
  {
   "cell_type": "code",
   "execution_count": null,
   "metadata": {
    "collapsed": true
   },
   "outputs": [],
   "source": []
  }
 ],
 "metadata": {
  "kernelspec": {
   "display_name": "Python 3",
   "language": "python",
   "name": "python3"
  },
  "language_info": {
   "codemirror_mode": {
    "name": "ipython",
    "version": 3
   },
   "file_extension": ".py",
   "mimetype": "text/x-python",
   "name": "python",
   "nbconvert_exporter": "python",
   "pygments_lexer": "ipython3",
   "version": "3.6.3"
  }
 },
 "nbformat": 4,
 "nbformat_minor": 2
}
